{
 "cells": [
  {
   "cell_type": "code",
   "execution_count": 7,
   "id": "30065ac8",
   "metadata": {},
   "outputs": [
    {
     "name": "stdout",
     "output_type": "stream",
     "text": [
      "   year  persons  males  females\n",
      "0  1951    18.33  27.16     8.55\n",
      "1  1961    28.30  40.40    15.35\n",
      "2  1971    35.45  45.96    21.57\n",
      "3  1981    43.57  56.38    29.76\n",
      "4  1991    52.24  64.13    39.23\n"
     ]
    }
   ],
   "source": [
    "import pandas as pd \n",
    "\n",
    "df=pd.read_csv(\"Table.csv\")\n",
    "print(df)"
   ]
  },
  {
   "cell_type": "code",
   "execution_count": 17,
   "id": "64823aa9",
   "metadata": {},
   "outputs": [
    {
     "name": "stdout",
     "output_type": "stream",
     "text": [
      "   year  persons  males  females\n",
      "0  1951    18.33  27.16     8.55\n",
      "1  1961    28.30  40.40    15.35\n",
      "2  1971    35.45  45.96    21.57\n",
      "3  1981    43.57  56.38    29.76\n",
      "4  1991    52.24  64.13    39.23\n",
      "   persons  males  females\n",
      "0    18.33  27.16     8.55\n",
      "1    28.30  40.40    15.35\n",
      "2    35.45  45.96    21.57\n",
      "3    43.57  56.38    29.76\n",
      "4    52.24  64.13    39.23\n",
      "persons    35.578\n",
      "males      46.806\n",
      "females    22.892\n",
      "dtype: float64\n",
      "persons    13.152694\n",
      "males      14.313458\n",
      "females    12.025204\n",
      "dtype: float64\n",
      "[[0.         0.         0.        ]\n",
      " [0.29401357 0.35812821 0.22164276]\n",
      " [0.50486582 0.50852042 0.4243807 ]\n",
      " [0.74432321 0.79037057 0.69132986]\n",
      " [1.         1.         1.        ]]\n"
     ]
    }
   ],
   "source": [
    "import pandas as pd \n",
    "\n",
    "df=pd.read_csv(\"Table.csv\")\n",
    "print(df)\n",
    "\n",
    "data=df[['persons','males','females']]\n",
    "print(data)\n",
    "\n",
    "print(data.mean(axis=0))\n",
    "print(data.std(axis=0))\n",
    "\n",
    "# mean_removed_data = preprocessing.scale(data)\n",
    "# print(mean_removed_data.mean(axis=0))\n",
    "# print(mean_removed_data.std(axis=0))\n",
    "\n",
    "\n",
    "data=df[['persons','males','females']]\n",
    "scaller_model=preprocessing.MinMaxScaler()\n",
    "\n",
    "op=scaller_model.fit_transform(data)\n",
    "print(op)"
   ]
  },
  {
   "cell_type": "code",
   "execution_count": 16,
   "id": "fbd2b1be",
   "metadata": {},
   "outputs": [
    {
     "name": "stdout",
     "output_type": "stream",
     "text": [
      "[[0.2 1. ]\n",
      " [1.  0. ]\n",
      " [0.  0. ]]\n"
     ]
    }
   ],
   "source": [
    "import numpy as np \n",
    "\n",
    "from sklearn import preprocessing\n",
    "\n",
    "data=np.array([[3,5],[7,4],[2,4]])\n",
    "\n",
    "scaller_model=preprocessing.MinMaxScaler()\n",
    "\n",
    "op=scaller_model.fit_transform(data)\n",
    "print(op)"
   ]
  },
  {
   "cell_type": "code",
   "execution_count": null,
   "id": "3976e620",
   "metadata": {},
   "outputs": [],
   "source": [
    "import numpy as np \n",
    "\n",
    "from sklearn import preprocessing\n",
    "\n",
    "data=np.array([[3,5],[7,4],[2,4]])\n",
    "\n",
    "scaller_model=preprocessing.MinMaxScaler()\n",
    "\n",
    "op=scaller_model.fit_transform(data)\n",
    "print(op)"
   ]
  },
  {
   "cell_type": "markdown",
   "id": "ea6d4f36",
   "metadata": {},
   "source": [
    "# Normalization\n"
   ]
  },
  {
   "cell_type": "code",
   "execution_count": 18,
   "id": "f1ed4467",
   "metadata": {},
   "outputs": [
    {
     "name": "stdout",
     "output_type": "stream",
     "text": [
      "[[0.375      0.625     ]\n",
      " [0.63636364 0.36363636]\n",
      " [0.33333333 0.66666667]]\n"
     ]
    }
   ],
   "source": [
    "data=np.array([[3,5],[7,4],[2,4]])\n",
    "\n",
    "op=preprocessing.normalize(data,norm='l1')\n",
    "print(op)"
   ]
  },
  {
   "cell_type": "code",
   "execution_count": null,
   "id": "ef2c534f",
   "metadata": {},
   "outputs": [],
   "source": []
  }
 ],
 "metadata": {
  "kernelspec": {
   "display_name": "Python 3 (ipykernel)",
   "language": "python",
   "name": "python3"
  },
  "language_info": {
   "codemirror_mode": {
    "name": "ipython",
    "version": 3
   },
   "file_extension": ".py",
   "mimetype": "text/x-python",
   "name": "python",
   "nbconvert_exporter": "python",
   "pygments_lexer": "ipython3",
   "version": "3.9.6"
  }
 },
 "nbformat": 4,
 "nbformat_minor": 5
}
