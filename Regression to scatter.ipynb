{
 "cells": [
  {
   "cell_type": "code",
   "execution_count": 7,
   "id": "9ec8edba",
   "metadata": {},
   "outputs": [
    {
     "data": {
      "image/png": "[encoded data removed]",
      "text/plain": [
       "<Figure size 432x288 with 1 Axes>"
      ]
     },
     "metadata": {
      "needs_background": "light"
     },
     "output_type": "display_data"
    }
   ],
   "source": [
    "import pandas as pd\n",
    "import numpy as np\n",
    "from sklearn import linear_model,model_selection,preprocessing\n",
    "import matplotlib.pyplot as plt\n",
    "\n",
    "\n",
    "#Load the data\n",
    "data=pd.read_csv(\"insurance.csv\")\n",
    "\n",
    "label_encoder=preprocessing.LabelEncoder()\n",
    "x=np.array(label_encoder.fit_transform(data.sex)).reshape(-1,1)\n",
    "y=np.array(data.expenses).reshape(-1,1)\n",
    "\n",
    "# op=labeled_data.fit_transform(x,y)\n",
    "\n",
    "\n",
    "#split the dataset in training and testing\n",
    "xtrain,xtest,ytrain,ytest=model_selection.train_test_split(x,y,test_size=0.3)\n",
    "\n",
    "#Load the model\n",
    "lr=linear_model.LinearRegression()\n",
    "\n",
    "\n",
    "#Train the model: fit\n",
    "lr.fit(xtrain,ytrain)\n",
    "\n",
    "\n",
    "#Test the Model\n",
    "ytest_predicted=lr.predict(xtest)\n",
    "\n",
    "plt.scatter(xtrain,ytrain,color=\"red\")\n",
    "plt.scatter(xtest,ytest,color=\"green\")\n",
    "plt.show()\n",
    "# print(ytest)\n",
    "# print(ytest_predicted)"
   ]
  },
  {
   "cell_type": "code",
   "execution_count": null,
   "id": "d0398a92",
   "metadata": {},
   "outputs": [],
   "source": []
  }
 ],
 "metadata": {
  "kernelspec": {
   "display_name": "Python 3 (ipykernel)",
   "language": "python",
   "name": "python3"
  },
  "language_info": {
   "codemirror_mode": {
    "name": "ipython",
    "version": 3
   },
   "file_extension": ".py",
   "mimetype": "text/x-python",
   "name": "python",
   "nbconvert_exporter": "python",
   "pygments_lexer": "ipython3",
   "version": "3.9.6"
  }
 },
 "nbformat": 4,
 "nbformat_minor": 5
}
